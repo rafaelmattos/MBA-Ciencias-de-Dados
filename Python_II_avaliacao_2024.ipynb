{
  "cells": [
    {
      "cell_type": "markdown",
      "metadata": {
        "id": "view-in-github",
        "colab_type": "text"
      },
      "source": [
        "<a href=\"https://colab.research.google.com/github/rafaelmattos/Programacao-para-Ciencias-de-Dados-MBA-ICMC-USP/blob/main/Python_II_avaliacao_2024.ipynb\" target=\"_parent\"><img src=\"https://colab.research.google.com/assets/colab-badge.svg\" alt=\"Open In Colab\"/></a>"
      ]
    },
    {
      "cell_type": "markdown",
      "metadata": {
        "id": "6funjacwNy-q"
      },
      "source": [
        "# <span style=\"color:blue\"> MBA em Ciência de Dados</span>\n",
        "# <span style=\"color:blue\">Programação para Ciência de Dados</span>\n",
        "\n",
        "## <span style=\"color:blue\">Avaliação Python Parte II</span>\n",
        "**Material Produzido por Luis Gustavo Nonato**<br>\n",
        "**Cemeai - ICMC/USP São Carlos**"
      ]
    },
    {
      "cell_type": "markdown",
      "metadata": {
        "id": "cutfp5OANy-y"
      },
      "source": [
        "<font color='red'> As respostas devem ser fornecidas no Moodle. O notebook é apenas para a implementação dos códigos que fornecerão as respostas</font>"
      ]
    },
    {
      "cell_type": "markdown",
      "metadata": {
        "id": "fXbLVfzhNy-3"
      },
      "source": [
        "### Exercício 1)\n",
        "Considere a lista `mat` abaixo, onde cada elemento é também uma lista. Cada lista correspondendo a um elemento de `mat` tem como primeiro elemento o cargo, segundo elemento o nível de formação e terceiro elemento o nome de um funcionário.\n",
        "\n",
        "Utilize comprehension para gerar uma lista chamada `nomes` que contenha o nome dos funcionários que tem cargo de supervisor.\n",
        "Dentre as opções abaixo, qual implementa a solução corretamente?\n",
        "\n",
        "a) nomes = [s for s in mat if s == 'supervisor']<br>\n",
        "b) nomes = [s[1] for s in mat if s[2] == 'supervisor']<br>\n",
        "c) nomes = [s[2] for s in mat if s[0] == 'supervisor' ]<br>\n",
        "c) nomes = [s[0] for s in mat if s != 'supervisor']"
      ]
    },
    {
      "cell_type": "code",
      "execution_count": 2,
      "metadata": {
        "colab": {
          "base_uri": "https://localhost:8080/"
        },
        "id": "WgBIqbVINy-4",
        "outputId": "9fa2567e-e229-4296-9c12-99b29ed7e675"
      },
      "outputs": [
        {
          "output_type": "execute_result",
          "data": {
            "text/plain": [
              "['Carlos', 'Fernanda']"
            ]
          },
          "metadata": {},
          "execution_count": 2
        }
      ],
      "source": [
        "mat = [\n",
        "    ['supervisor', 'tecnico', 'Carlos'],\n",
        "    ['assistente', 'tecnico', 'Lucas'],\n",
        "    ['gerente', 'doutor', 'Jessica'],\n",
        "    ['especialista', 'mestre', 'Alberto'],\n",
        "    ['gerente', 'graduado', 'Ricardo'],\n",
        "    ['CEO', 'graduado', 'Fernando'],\n",
        "    ['gerente', 'mestre', 'Jose'],\n",
        "    ['CEO', 'graduado', 'Joao'],\n",
        "    ['supervisor', 'graduado', 'Fernanda'],\n",
        "    ['gerente', 'doutor', 'Marcos'],\n",
        "    ['assistente', 'tecnico', 'Luis']\n",
        "]\n",
        "\n",
        "nomes = [s[2] for s in mat if s[0] == 'supervisor' ]\n",
        "nomes"
      ]
    },
    {
      "cell_type": "markdown",
      "metadata": {
        "id": "qNf3LdUGNy-7"
      },
      "source": [
        "### Exercício 2)\n",
        "Ainda utilizando a lista `mat` do exercício anterior, crie um dicionário chamado `dc` onde cada elemento é da forma `formacao:[cargo1,cargo2,...]`, ou seja, as chaves são as _formações_ e os valores uma lista com os cargos assumidos pelas pessoas que tem a correspondente formação. As listas associadas a cada chave não devem conter valores repetidos. A formação com a maior lista de cargos é:\n",
        "\n",
        "a) graduado<br>\n",
        "b) doutor<br>\n",
        "c) tecnico<br>\n",
        "d) mestre"
      ]
    },
    {
      "cell_type": "code",
      "execution_count": 48,
      "metadata": {
        "id": "kMvAVc18Ny-9",
        "outputId": "14d30981-6686-4e4b-c8c6-923c234e41e0",
        "colab": {
          "base_uri": "https://localhost:8080/"
        }
      },
      "outputs": [
        {
          "output_type": "stream",
          "name": "stdout",
          "text": [
            "{'tecnico': ['assistente', 'supervisor'], 'doutor': ['gerente'], 'mestre': ['especialista', 'gerente'], 'graduado': ['CEO', 'supervisor', 'gerente']}\n",
            "{'tecnico': 2, 'doutor': 1, 'mestre': 2, 'graduado': 3}\n",
            "A formação com a maior lista de cargos é: graduado\n"
          ]
        }
      ],
      "source": [
        "\n",
        "dc = {f[1]: list({c[0] for c in mat if c[1]==f[1]}) for f in mat}\n",
        "print(dc)\n",
        "\n",
        "# Calculando o tamanho de cada item\n",
        "tamanhos = {formacao: len(cargos) for formacao, cargos in dc.items()}\n",
        "\n",
        "print(tamanhos)\n",
        "\n",
        "# Obtendo a maior formação com base no número de cargos associados\n",
        "maior_formacao = max(tamanhos, key=tamanhos.get)\n",
        "\n",
        "print(\"A formação com a maior lista de cargos é:\", maior_formacao)\n"
      ]
    },
    {
      "cell_type": "markdown",
      "metadata": {
        "id": "xlNmh7NuNy--"
      },
      "source": [
        "### Exercício 3)\n",
        "A função `variacoes` descrita abaixo\n",
        "```python\n",
        "def variacoes(s):\n",
        "    dc = {______________}\n",
        "    return(dc)\n",
        "```\n",
        "recebe uma 'string' como parâmetro e gera um dicionário como resposta, onde as chaves do dicionário são todas as variações da string com um caracter removido, colocando a string original como valor associado a cada chave . Por exemplo:\n",
        "```python\n",
        "print(variacoes('casa'))\n",
        "```\n",
        "deve resultar em:\n",
        "```python\n",
        "{'asa': 'casa', 'csa': 'casa', 'caa': 'casa', 'cas': 'casa'}\n",
        "```\n",
        "\n",
        "Qual das alternativas abaixo completa corretamente a função?\n",
        "\n",
        "a) {s[0]+s[1] for s in range(len(s))}<br>\n",
        "b) {s[:i]+s[i+1:]:i for i in s}<br>\n",
        "c) {s[0:i]+s[i+1:]:s for i in len(s)}<br>\n",
        "d) {s[0:i]+s[i+1:]:s for i in range(len(s))}"
      ]
    },
    {
      "cell_type": "code",
      "execution_count": 51,
      "metadata": {
        "colab": {
          "base_uri": "https://localhost:8080/"
        },
        "id": "QFfqmQAWNy-_",
        "outputId": "3e25fb18-d57a-4403-af5a-9523722966be"
      },
      "outputs": [
        {
          "output_type": "stream",
          "name": "stdout",
          "text": [
            "{'asa': 'casa', 'csa': 'casa', 'caa': 'casa', 'cas': 'casa'}\n"
          ]
        }
      ],
      "source": [
        "def variacoes(s):\n",
        "    dc = {s[0:i]+s[i+1:]:s for i in range(len(s))}\n",
        "    return(dc)\n",
        "\n",
        "print(variacoes('casa'))"
      ]
    },
    {
      "cell_type": "markdown",
      "metadata": {
        "id": "2C36zssaNy_B"
      },
      "source": [
        "### Exercício 4)\n",
        "O método <font color='blue'>sorted</font> assume como atributos uma sequência e um parâmetro `key` que pode ser uma função que será aplicada aos elementos da sequência a fim de ordená-los de acordo com os valores resultantes da função (veja lista de exercícios da aula).\n",
        "\n",
        "Utilize uma função <font color='blue'>lambda</font> como parâmetro `key` no método <font color='blue'>sorted</font> para ordenar uma lista cujos elementos são numéricos, de modo que cada elemento seja ordenado como se tivesse o valor $x^2-x$, onde $x$ corresponde a cada elemento da lista.\n",
        "\n",
        "O resultado da ordenação quando aplicada à lista\n",
        "```python\n",
        "[0.11, -0.11, 0.4, 0.11, -0.57, -0.05, 0.85, -0.27, -0.07, -0.78, 0.13, 0.36]\n",
        "```\n",
        "será:\n",
        "\n",
        "a) [-0.78, -0.57, -0.27, -0.11, -0.07, -0.05, 0.11, 0.11, 0.4, 0.85, 0.13, 0.36]<br>\n",
        "b) [0.11, 0.11, -0.27, -0.78, -0.11, -0.07, 0.13, 0.36, -0.05,  -0.57, 0.4, 0.85]<br>\n",
        "c) [0.4, 0.36, 0.85, 0.13, 0.11, 0.11, -0.05, -0.07, -0.11, -0.27, -0.57, -0.78]<br>\n",
        "d) [-0.05, 0.11, -0.07, 0.13, -0.11, 0.11, 0.36, -0.27, 0.4, -0.57, -0.78, 0.85]"
      ]
    },
    {
      "cell_type": "code",
      "execution_count": 55,
      "metadata": {
        "colab": {
          "base_uri": "https://localhost:8080/"
        },
        "id": "7F-kuDkuNy_C",
        "outputId": "dda88ba8-7542-4464-fe05-49d43996cf50"
      },
      "outputs": [
        {
          "output_type": "execute_result",
          "data": {
            "text/plain": [
              "[0.4, 0.36, 0.85, 0.13, 0.11, 0.11, -0.05, -0.07, -0.11, -0.27, -0.57, -0.78]"
            ]
          },
          "metadata": {},
          "execution_count": 55
        }
      ],
      "source": [
        "l = [0.11, -0.11, 0.4, 0.11, -0.57, -0.05, 0.85, -0.27, -0.07, -0.78, 0.13, 0.36]\n",
        "\n",
        "s = sorted(l, key= lambda x: (x**2) -x )\n",
        "s"
      ]
    },
    {
      "cell_type": "markdown",
      "metadata": {
        "id": "S2H0JLg1Ny_E"
      },
      "source": [
        "### Exercício 5)\n",
        "Construa uma função `concatena_dicionarios` que recebe dois dicionários como atributos e concatena ambos em um único dicionário contendo as chaves e os valores dos dois dicionários. Se a chave se repete em ambos, mantenha o maior valor associado a chave . Por exemplo, dados os dicionários:\n",
        "```python\n",
        "dc1 = {1: 5479, 5: 1479, 7: 1549, 9: 1547}\n",
        "dc2 = {5: 2647, 2: 9647, 1: 9247}\n",
        "```\n",
        "a função deve resultar no dicionário\n",
        "```python\n",
        "{1: 9247, 7: 1549, 5: 2647, 9: 1547, 2: 9647}\n",
        "```\n",
        "Considerando os dicionários abaixo como entrada para a função:\n",
        "```python\n",
        "dc1 = {4: 10153, 18: 41118, 2: 101515, 15: 354, 7: 4145, 8: 10316, 3: 121016, 11: 15122, 12: 16158, 10: 4188, 14: 15318, 5: 11711, 16: 181412}\n",
        "\n",
        "dc2 = {19: 16619, 4: 11310, 18: 171112, 11: 171817, 12: 171911, 6: 4195, 5: 171910, 3: 10310, 16: 191916, 10: 111619, 17: 51016}\n",
        "```\n",
        "O par `chave:valor` com o maior valor no dicionário concatenado será:\n",
        "\n",
        "a) 12: 171911<br>\n",
        "b) 5: 171910<br>\n",
        "c) 11: 171817<br>\n",
        "d) 16: 191916\n",
        "\n",
        "**Dica:** Crie uma lista como as tuplas `(chave,valor)` do dicionário concatenado e ordene os elementos da lista com base no `valor`."
      ]
    },
    {
      "cell_type": "code",
      "execution_count": 87,
      "metadata": {
        "colab": {
          "base_uri": "https://localhost:8080/"
        },
        "id": "-isO4J3VNy_F",
        "outputId": "7027a89c-9719-420b-9e70-5f038e000cab"
      },
      "outputs": [
        {
          "output_type": "stream",
          "name": "stdout",
          "text": [
            "{4: 11310, 18: 171112, 2: 101515, 15: 354, 7: 4145, 8: 10316, 3: 121016, 11: 171817, 12: 171911, 10: 111619, 14: 15318, 5: 171910, 16: 191916, 19: 16619, 6: 4195, 17: 51016}\n",
            "O maior valor do dicionário final é: 191916\n",
            "A chave associada ao maior valor é: 16\n"
          ]
        }
      ],
      "source": [
        "# Solucao\n",
        "\n",
        "dc1 = {4: 10153, 18: 41118, 2: 101515, 15: 354, 7: 4145, 8: 10316, 3: 121016, 11: 15122, 12: 16158, 10: 4188, 14: 15318, 5: 11711, 16: 181412}\n",
        "\n",
        "dc2 = {19: 16619, 4: 11310, 18: 171112, 11: 171817, 12: 171911, 6: 4195, 5: 171910, 3: 10310, 16: 191916, 10: 111619, 17: 51016}\n",
        "\n",
        "#dc1 = {1: 5479, 5: 1479, 7: 1549, 9: 1547}\n",
        "#dc2 = {5: 2647, 2: 9647, 1: 9247}\n",
        "\n",
        "def concatenadic(dicionario1, dicionario2):\n",
        "  for chave, valor in dicionario2.items():\n",
        "    if chave in dicionario1:\n",
        "        if valor > dicionario1[chave]:\n",
        "            dicionario1[chave] = valor\n",
        "    else:\n",
        "        dicionario1[chave] = valor\n",
        "  return(dicionario1)\n",
        "\n",
        "\n",
        "dc3 = concatenadic(dc1,dc2)\n",
        "print(dc3)\n",
        "\n",
        "maior_valor = max(dc3.values())\n",
        "print(\"O maior valor do dicionário final é:\", maior_valor)\n",
        "\n",
        "chave_maior_valor = max(dc3, key=dc3.get)\n",
        "print(\"A chave associada ao maior valor é:\", chave_maior_valor)"
      ]
    },
    {
      "cell_type": "code",
      "source": [
        "def concatenadic(dicionario1, dicionario2):\n",
        "  # Usando comprehensions para criar um novo dicionário com os valores máximos das chaves comuns\n",
        "  novo_dicionario = {chave: max(dicionario1.get(chave, 0), valor) for chave, valor in dicionario2.items()}\n",
        "\n",
        "  # Atualizando dicionario1 com o novo_dicionario\n",
        "  dicionario1.update(novo_dicionario)\n",
        "\n",
        "  return(dicionario1)\n",
        "\n",
        "# Solucao2\n",
        "\n",
        "dc1 = {4: 10153, 18: 41118, 2: 101515, 15: 354, 7: 4145, 8: 10316, 3: 121016, 11: 15122, 12: 16158, 10: 4188, 14: 15318, 5: 11711, 16: 181412}\n",
        "\n",
        "dc2 = {19: 16619, 4: 11310, 18: 171112, 11: 171817, 12: 171911, 6: 4195, 5: 171910, 3: 10310, 16: 191916, 10: 111619, 17: 51016}\n",
        "\n",
        "dc3 = concatenadic(dc1,dc2)\n",
        "print(dc3)\n",
        "\n",
        "maior_valor = max(dc3.values())\n",
        "print(\"O maior valor do dicionário final é:\", maior_valor)\n",
        "\n",
        "chave_maior_valor = max(dc3, key=dc3.get)\n",
        "print(\"A chave associada ao maior valor é:\", chave_maior_valor)\n"
      ],
      "metadata": {
        "colab": {
          "base_uri": "https://localhost:8080/"
        },
        "id": "HsCZ5e9vayaC",
        "outputId": "22171252-1b54-4652-d1cd-be62c951badb"
      },
      "execution_count": 86,
      "outputs": [
        {
          "output_type": "stream",
          "name": "stdout",
          "text": [
            "{4: 11310, 18: 171112, 2: 101515, 15: 354, 7: 4145, 8: 10316, 3: 121016, 11: 171817, 12: 171911, 10: 111619, 14: 15318, 5: 171910, 16: 191916, 19: 16619, 6: 4195, 17: 51016}\n",
            "O maior valor do dicionário final é: 191916\n",
            "A chave associada ao maior valor é: 16\n"
          ]
        }
      ]
    }
  ],
  "metadata": {
    "colab": {
      "provenance": [],
      "include_colab_link": true
    },
    "kernelspec": {
      "display_name": "Python 3",
      "language": "python",
      "name": "python3"
    },
    "language_info": {
      "codemirror_mode": {
        "name": "ipython",
        "version": 3
      },
      "file_extension": ".py",
      "mimetype": "text/x-python",
      "name": "python",
      "nbconvert_exporter": "python",
      "pygments_lexer": "ipython3",
      "version": "3.8.8"
    }
  },
  "nbformat": 4,
  "nbformat_minor": 0
}