{
  "cells": [
    {
      "cell_type": "markdown",
      "metadata": {
        "id": "view-in-github",
        "colab_type": "text"
      },
      "source": [
        "<a href=\"https://colab.research.google.com/github/rafaelmattos/MBA-Ciencias-de-Dados/blob/main/Programa%C3%A7%C3%A3o%20para%20Ciencias%20de%20dados%5CPython_I_exercicios.ipynb\" target=\"_parent\"><img src=\"https://colab.research.google.com/assets/colab-badge.svg\" alt=\"Open In Colab\"/></a>"
      ]
    },
    {
      "cell_type": "markdown",
      "metadata": {
        "id": "hyd21jDJjqMk"
      },
      "source": [
        "# <span style=\"color:blue\"> MBA em Ciência de Dados</span>\n",
        "# <span style=\"color:blue\">Programação para Ciência de Dados</span>\n",
        "\n",
        "## <span style=\"color:blue\">Exercícios Python Parte I</span>\n",
        "**Material Produzido por Luis Gustavo Nonato**<br>\n",
        "**Cemeai - ICMC/USP São Carlos**"
      ]
    },
    {
      "cell_type": "markdown",
      "metadata": {
        "id": "axiSVsqojqMn"
      },
      "source": [
        "#### <span style=\"color:red\">Recomenda-se fortemente que os exercícios sejam feitos sem consultar as respostas antecipadamente.</span>"
      ]
    },
    {
      "cell_type": "markdown",
      "metadata": {
        "id": "g8rjM6A1jqMn"
      },
      "source": [
        "### Exercício 1)\n",
        "Declare duas variáveis chamadas *preco_dolar* e *preco_celular_em_dolar* com os valores *5.12* e *849*, respectivamente. Realize a conversão do preço do celular para real e imprima o resultado"
      ]
    },
    {
      "cell_type": "code",
      "execution_count": null,
      "metadata": {
        "colab": {
          "base_uri": "https://localhost:8080/"
        },
        "id": "zogZyb_YjqMo",
        "outputId": "cbf12a3a-613e-4baf-aceb-a8ef51795160"
      },
      "outputs": [
        {
          "output_type": "stream",
          "name": "stdout",
          "text": [
            "preco em dolar:  5.12\n",
            "preco celular em dolar:  849\n",
            "preco celular em Real:  4346.88\n"
          ]
        }
      ],
      "source": [
        "# escreva o codigo nesta celula\n",
        "preco_dolar, preco_celular_em_dolar = 5.12, 849\n",
        "\n",
        "print('preco em dolar: ',preco_dolar)\n",
        "print('preco celular em dolar: ',preco_celular_em_dolar)\n",
        "\n",
        "preco_celular_em_real = preco_celular_em_dolar * preco_dolar\n",
        "print('preco celular em Real: ',preco_celular_em_real)\n"
      ]
    },
    {
      "cell_type": "markdown",
      "metadata": {
        "id": "zReYSAmVjqMo"
      },
      "source": [
        "### Exercício 2)\n",
        "Considere o conjunto de valores armazenados na lista `valores` descrita abaixo. Utilizando um laço \"_for_\" percorra a lista e calcule:\n",
        "- A média dos valores\n",
        "- O maior valor\n",
        "- O menor valor\n",
        "\n",
        "Armazene os resultados nas variáveis *media*, *maximo* e *minimo*. Imprima os valores obtidos."
      ]
    },
    {
      "cell_type": "code",
      "execution_count": null,
      "metadata": {
        "colab": {
          "base_uri": "https://localhost:8080/"
        },
        "id": "ZFWtJXNgjqMp",
        "outputId": "27c33866-88c5-483e-af4c-ffe16e290b50"
      },
      "outputs": [
        {
          "output_type": "stream",
          "name": "stdout",
          "text": [
            "17\n",
            "Media =  0.11705882352941177\n",
            "Maximo =  0.99\n",
            "Minimo =  -0.97\n"
          ]
        }
      ],
      "source": [
        "valores = [-0.85,-0.64,0.93,0.73,0.34,0.90,0.39,\n",
        "           0.04,0.32,0.99,-0.71,-0.97,0.04,0.30,0.47,0.46,-0.75]\n",
        "\n",
        "# escreva o codigo aqui\n",
        "# Import math Library\n",
        "import math\n",
        "\n",
        "maximo = -math.inf\n",
        "minimo = math.inf\n",
        "\n",
        "media=0\n",
        "\n",
        "for v in valores:\n",
        "  media = media + v\n",
        "  if v > maximo:\n",
        "    maximo = v\n",
        "  if v < minimo:\n",
        "    minimo = v\n",
        "\n",
        "\n",
        "media = media / len(valores)\n",
        "\n",
        "\n",
        "print('Media = ',media)\n",
        "print('Maximo = ',maximo)\n",
        "print('Minimo = ',minimo)"
      ]
    },
    {
      "cell_type": "markdown",
      "metadata": {
        "id": "gPVBGoQdjqMp"
      },
      "source": [
        "### Exercício 3)\n",
        "Dada a lista `meus_numeros` abaixo, crie uma nova lista chamada `meus_numeros3` contendo apenas elementos de `meus_numeros` que são multiplos de 3.\n",
        "\n",
        "__Dica:__ Utilize o operador binário <font color='blue'>'%'</font> que retorna o resto da divisão de um número por outro. Por exemplo:\n",
        "```python\n",
        "print(22%6)\n",
        "```\n",
        "resulta no valor 4"
      ]
    },
    {
      "cell_type": "code",
      "execution_count": null,
      "metadata": {
        "colab": {
          "base_uri": "https://localhost:8080/"
        },
        "id": "t2AGhXg9jqMp",
        "outputId": "efe01d98-bed8-4116-ad0a-eb011ad28ac7"
      },
      "outputs": [
        {
          "output_type": "stream",
          "name": "stdout",
          "text": [
            "[342, 12, 45, 123, 567]\n"
          ]
        }
      ],
      "source": [
        "meus_numeros = [1, 56, 342, 12, 781, 23, 43, 45, 123, 567]\n",
        "\n",
        "# escreva o codigo aqui\n",
        "\n",
        "meus_numeros3=[]\n",
        "\n",
        "for v in meus_numeros:\n",
        "  if v % 3 == 0:\n",
        "    meus_numeros3.append(v)\n",
        "\n",
        "\n",
        "print(meus_numeros3)"
      ]
    },
    {
      "cell_type": "markdown",
      "metadata": {
        "id": "8bAbyXDOjqMp"
      },
      "source": [
        "### Exercício 4)\n",
        "Considere a lista `minha_lista` declarada abaixo.\n",
        "- Utilizando \"slicing\", imprima o subconjunto de elementos entre o segundo e o quarto elemento (inclusive)\n",
        "- Gere uma nova lista chamada `maiores4` contendo os elementos da lista `minha_lista` que possuam quatro caracteres ou mais.\n",
        "- Gere uma nova lista chamada `j_ou_c` contendo os elementos da lista `minha_lista` que começam com a letra j ou com a letra c."
      ]
    },
    {
      "cell_type": "code",
      "execution_count": null,
      "metadata": {
        "colab": {
          "base_uri": "https://localhost:8080/"
        },
        "id": "PfKlFvAujqMp",
        "outputId": "740f61ae-915a-492c-d338-ece057de9ace"
      },
      "outputs": [
        {
          "output_type": "stream",
          "name": "stdout",
          "text": [
            "['java', 'c++', 'javascript']\n",
            "['python', 'java', 'javascript']\n",
            "['java', 'c++', 'javascript', 'c#']\n"
          ]
        }
      ],
      "source": [
        "minha_lista = ['python', 'java', 'c++', 'javascript', 'c#', 'go', 'r']\n",
        "\n",
        "# escreva o codigo aqui\n",
        "\n",
        "print(minha_lista[1:4])\n",
        "\n",
        "maiores4=[]\n",
        "j_ou_c =[]\n",
        "\n",
        "for i in minha_lista:\n",
        "  if len(i) >=4:\n",
        "    maiores4.append(i)\n",
        "  if i[0]=='j' or i[0]=='c':\n",
        "    j_ou_c.append(i)\n",
        "\n",
        "\n",
        "\n",
        "print(maiores4)\n",
        "\n",
        "print(j_ou_c)"
      ]
    },
    {
      "cell_type": "markdown",
      "metadata": {
        "id": "hilAGhtqjqMq"
      },
      "source": [
        "### Exercício 5)\n",
        "Considere a lista `minhas_notas` definida abaixo, onde cada elemento é uma lista que representa notas dadas a um produto. Calcule a média de notas de cada produto, salvando o resultado em uma nova lista chamada `notas_medias`.\n",
        "\n",
        "__Dica:__ Utilize o comando <font color='blue'>'sum'</font> do Python para somar os valores em uma lista. Por exemplo:\n",
        "```python\n",
        "ls = [1,1,1,1,1]\n",
        "print(sum(ls))\n",
        "```\n",
        "resulta no valor 5"
      ]
    },
    {
      "cell_type": "code",
      "execution_count": null,
      "metadata": {
        "colab": {
          "base_uri": "https://localhost:8080/"
        },
        "id": "leJem0oNjqMq",
        "outputId": "f89f74b7-c850-4db1-dd02-a70e93e3c5cc"
      },
      "outputs": [
        {
          "output_type": "stream",
          "name": "stdout",
          "text": [
            "[2.6666666666666665, 5.7749999999999995, 8.16, 8.7, 3.5250000000000004]\n"
          ]
        }
      ],
      "source": [
        "minhas_notas = [[2.3, 4.5, 1.2], # Notas do produto 1\n",
        "                [5.4, 3.6, 7.9, 6.2], # Notas do produto 2\n",
        "                [8.1, 8.9, 6.5, 7.9, 9.4], # ...\n",
        "                [9.8, 7.6],\n",
        "                [3.2, 4.5, 1.6, 4.8]]\n",
        "\n",
        "# escreva o codigo aqui\n",
        "notas_medias=[]\n",
        "for p in minhas_notas:\n",
        "  m = sum(p)/len(p)\n",
        "  notas_medias.append(m)\n",
        "\n",
        "print(notas_medias)"
      ]
    },
    {
      "cell_type": "markdown",
      "metadata": {
        "id": "wG-3m890jqMq"
      },
      "source": [
        "### Exercício 6)\n",
        "Considerando a lista `nomes` a abaixo. Crie uma nova lista chamada `nomes_o` com os elementos da lista `nomes` que possuam a letra  'o' como parte do nome. Para isso, utilize o comando <font color='blue'>'in'</font> disponível no Python para verificar se uma substring esta contida em outra.\n",
        "\n",
        "Por exemplo, o código abaixo:\n",
        "```python\n",
        "print('us' in 'Gustavo')\n",
        "```\n",
        "imprime como resultado:\n",
        "```python\n",
        "True\n",
        "```"
      ]
    },
    {
      "cell_type": "code",
      "execution_count": null,
      "metadata": {
        "colab": {
          "base_uri": "https://localhost:8080/"
        },
        "id": "1gYUyluljqMq",
        "outputId": "a69663fa-125b-466a-8788-3ba472e3d39a"
      },
      "outputs": [
        {
          "output_type": "stream",
          "name": "stdout",
          "text": [
            "['Gustavo', 'Hugo', 'Ricardo']\n"
          ]
        }
      ],
      "source": [
        "nomes = ['Matheus', 'Gabriel', 'Gustavo', 'Hugo', 'Ricardo', 'Rui', 'Guilherme', 'Luiz']\n",
        "\n",
        "# escreva o codigo aqui\n",
        "nomes_o=[]\n",
        "for n in nomes:\n",
        "  if 'o' in n:\n",
        "    nomes_o.append(n)\n",
        "\n",
        "print(nomes_o)"
      ]
    },
    {
      "cell_type": "markdown",
      "metadata": {
        "id": "UJDsv8c-jqMq"
      },
      "source": [
        "### Exercício 7)\n",
        "Ainda utilizando a lista `nomes` definida acima, crie uma nova lista chamada `concatenados` com os elementos da lista `nomes`, porém, elementos começando com a mesma letra devem ser concatenados em um único elemento, ou seja, a lista resultante deve ser:\n",
        "```python\n",
        "['Matheus', 'GabrielGustavoGuilherme', 'Hugo', 'RicardoRui', 'Luiz']\n",
        "```\n",
        "__Dica:__ Crie um dicionario onde a chave corresponde a uma letra e o valor a uma string que pode ser concatenada caso o valor não seja vazio. Você pode utilizar o comando <font color='blue'>'in'</font> para verificar se uma chave existe em um dicionário. Por exemplo, o código:\n",
        "```python\n",
        "dc = {'c1': 0, 'c2':1, 'c3':2}\n",
        "print('c2' in dc)\n",
        "```\n",
        "imprime como resultado:\n",
        "```python\n",
        "True\n",
        "```"
      ]
    },
    {
      "cell_type": "code",
      "execution_count": null,
      "metadata": {
        "id": "ojSZCjCgjqMr",
        "colab": {
          "base_uri": "https://localhost:8080/"
        },
        "outputId": "139b9eff-f56a-4426-ff5d-8c24b8ddd223"
      },
      "outputs": [
        {
          "output_type": "stream",
          "name": "stdout",
          "text": [
            "{'M': 'Matheus', 'G': 'GabrielGustavoGuilherme', 'H': 'Hugo', 'R': 'RicardoRui', 'L': 'Luiz'}\n",
            "['Matheus', 'GabrielGustavoGuilherme', 'Hugo', 'RicardoRui', 'Luiz']\n"
          ]
        }
      ],
      "source": [
        "nomes = ['Matheus', 'Gabriel', 'Gustavo', 'Hugo', 'Ricardo', 'Rui', 'Guilherme', 'Luiz']\n",
        "\n",
        "# escreva o codigo aqui\n",
        "concatenados = []\n",
        "dc = {}\n",
        "\n",
        "for n in nomes:\n",
        "  if n[0] in dc:\n",
        "    dc[n[0]]= dc[n[0]]+ n\n",
        "  else:\n",
        "    dc[n[0]]= n\n",
        "concatenados = list(dc.values())\n",
        "\n",
        "#print(dc)\n",
        "\n",
        "print(concatenados)"
      ]
    },
    {
      "cell_type": "markdown",
      "metadata": {
        "id": "7qsHMy6bjqMr"
      },
      "source": [
        "### Exercício 8)\n",
        "Dado o dicionário abaixo, o qual contém valores de imóveis pertencentes a uma pessoa, escreva um código para encontrar qual é o imóvel de maior valor, salvando a chave correspondente em uma variável tipo string."
      ]
    },
    {
      "cell_type": "code",
      "execution_count": null,
      "metadata": {
        "id": "M_iGxB7UjqMr",
        "colab": {
          "base_uri": "https://localhost:8080/"
        },
        "outputId": "484d07c7-8312-45fc-9bf2-287d5bfec41b"
      },
      "outputs": [
        {
          "output_type": "stream",
          "name": "stdout",
          "text": [
            "Imovel de maior valor:  Sitio com lago\n"
          ]
        }
      ],
      "source": [
        "preco_imoveis = {'Apartamento centro': 1250000,\n",
        "               'Apartamento suburbio': 500000,\n",
        "               'Casa cinco quartos': 750000,\n",
        "               'Casa com garagem': 300000,\n",
        "               'Casa com piscina': 1200000,\n",
        "               'Sitio pequeno': 3000000,\n",
        "               'Sitio com lago': 5500000}\n",
        "\n",
        "# escreva o codigo aqui\n",
        "maior = 0\n",
        "imovel =''\n",
        "for k,v in preco_imoveis.items():\n",
        "  if v > maior:\n",
        "    imovel = k\n",
        "print(\"Imovel de maior valor: \",imovel)"
      ]
    },
    {
      "cell_type": "markdown",
      "metadata": {
        "id": "B_R7vqYQjqMr"
      },
      "source": [
        "### Exercício 9)\n",
        "Repita o exercício anterior de modo a encontrar o imóvel de maior valor, porém, **NÃO** utilizando um laço <font color='blue'>'for'</font><br> no código.\n",
        "\n",
        "__Dica:__ Armazene os pares (chave, valor) em listas e utilize uma combinação do comando <font color='blue'>'max'</font> disponível no python com o método <font color='blue'>.index()</font> presente nos objetos tipo <font color='blue'>'list'</font>."
      ]
    },
    {
      "cell_type": "code",
      "execution_count": null,
      "metadata": {
        "id": "zGMzSVq4jqMr",
        "colab": {
          "base_uri": "https://localhost:8080/",
          "height": 35
        },
        "outputId": "4418c8f9-77b6-4e33-d0ce-f575b21b7f6a"
      },
      "outputs": [
        {
          "output_type": "execute_result",
          "data": {
            "text/plain": [
              "'Sitio com lago'"
            ],
            "application/vnd.google.colaboratory.intrinsic+json": {
              "type": "string"
            }
          },
          "metadata": {},
          "execution_count": 34
        }
      ],
      "source": [
        "# escreva o codigo aqui\n",
        "listaImoveis = list(preco_imoveis.keys())\n",
        "listaPrecos = list(preco_imoveis.values())\n",
        "\n",
        "listaImoveis[listaPrecos.index(max(listaPrecos))]"
      ]
    },
    {
      "cell_type": "markdown",
      "metadata": {
        "id": "z1uqCD1mjqMr"
      },
      "source": [
        "### Exercício 10)\n",
        "Escreva um código para contar o número de ocorrências de cada letra na string `minha_string` fornecida abaixo e imprima os resultados.\n",
        "\n",
        "__Dica:__ Utilize um dicionário."
      ]
    },
    {
      "cell_type": "code",
      "execution_count": null,
      "metadata": {
        "id": "e3h1VB_EjqMr",
        "colab": {
          "base_uri": "https://localhost:8080/"
        },
        "outputId": "a7d746ab-6508-40f0-ff6e-869933c3b551"
      },
      "outputs": [
        {
          "output_type": "execute_result",
          "data": {
            "text/plain": [
              "{'s': 2, 'c': 2, 'i': 3, 'e': 2, 'n': 2, 't': 1, 'a': 1, ' ': 1, 'v': 1}"
            ]
          },
          "metadata": {},
          "execution_count": 37
        }
      ],
      "source": [
        "minha_string = \"scientia vinces\"\n",
        "\n",
        "# escreva o codigo aqui\n",
        "dc = {}\n",
        "for c in minha_string:\n",
        "  dc[c] = 1 if c not in dc else dc[c] + 1\n",
        "dc"
      ]
    }
  ],
  "metadata": {
    "kernelspec": {
      "display_name": "Python 3",
      "language": "python",
      "name": "python3"
    },
    "language_info": {
      "codemirror_mode": {
        "name": "ipython",
        "version": 3
      },
      "file_extension": ".py",
      "mimetype": "text/x-python",
      "name": "python",
      "nbconvert_exporter": "python",
      "pygments_lexer": "ipython3",
      "version": "3.8.5"
    },
    "toc": {
      "base_numbering": 1,
      "nav_menu": {},
      "number_sections": true,
      "sideBar": true,
      "skip_h1_title": false,
      "title_cell": "Table of Contents",
      "title_sidebar": "Contents",
      "toc_cell": false,
      "toc_position": {},
      "toc_section_display": true,
      "toc_window_display": false
    },
    "colab": {
      "provenance": [],
      "include_colab_link": true
    }
  },
  "nbformat": 4,
  "nbformat_minor": 0
}