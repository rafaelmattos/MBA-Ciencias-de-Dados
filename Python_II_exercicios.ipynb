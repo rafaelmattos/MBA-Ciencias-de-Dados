{
  "cells": [
    {
      "cell_type": "markdown",
      "metadata": {
        "id": "view-in-github",
        "colab_type": "text"
      },
      "source": [
        "<a href=\"https://colab.research.google.com/github/rafaelmattos/Programacao-para-Ciencias-de-Dados-MBA-ICMC-USP/blob/main/Python_II_exercicios.ipynb\" target=\"_parent\"><img src=\"https://colab.research.google.com/assets/colab-badge.svg\" alt=\"Open In Colab\"/></a>"
      ]
    },
    {
      "cell_type": "markdown",
      "metadata": {
        "id": "YRuQfjG7jPDg"
      },
      "source": [
        "# <span style=\"color:blue\"> MBA em Ciência de Dados</span>\n",
        "# <span style=\"color:blue\">Programação para Ciência de Dados</span>\n",
        "\n",
        "## <span style=\"color:blue\">Exercícios Python Parte II</span>\n",
        "**Material Produzido por Luis Gustavo Nonato**<br>\n",
        "**Cemeai - ICMC/USP São Carlos**"
      ]
    },
    {
      "cell_type": "markdown",
      "metadata": {
        "id": "Pdh0qGE0jPDl"
      },
      "source": [
        "#### <span style=\"color:red\">Recomenda-se fortemente que os exercícios sejam feitos sem consultar as respostas antecipadamente.</span>"
      ]
    },
    {
      "cell_type": "markdown",
      "metadata": {
        "id": "6bULgIjJjPDm"
      },
      "source": [
        "### Exercício 1)"
      ]
    },
    {
      "cell_type": "markdown",
      "metadata": {
        "id": "BFbk3dhsjPDm"
      },
      "source": [
        "**1.1** No código abaixo, explique por que o valor da variável `y` não é o mesmo que o valor de `x` após a operação `x = x+1`."
      ]
    },
    {
      "cell_type": "code",
      "execution_count": null,
      "metadata": {
        "colab": {
          "base_uri": "https://localhost:8080/"
        },
        "id": "1vKxIn2DjPDm",
        "outputId": "a001d586-328c-493a-be98-3206b3978566"
      },
      "outputs": [
        {
          "name": "stdout",
          "output_type": "stream",
          "text": [
            "3 3\n",
            "4 3\n"
          ]
        }
      ],
      "source": [
        "x = 3\n",
        "y = x\n",
        "print(x,y)\n",
        "x = x+1\n",
        "print(x,y)"
      ]
    },
    {
      "cell_type": "markdown",
      "metadata": {
        "id": "9hbR9r2FjPDn"
      },
      "source": [
        "**Resposta**: Porque após a operação de x + 1 a variável x foi armazenada em um outro endereço de memória."
      ]
    },
    {
      "cell_type": "markdown",
      "source": [
        "**Resposta**: Na atribuição x=3, um endereço de memória é criado para armazenar o valor 3 e uma referência para este endereço é armazenada na váriável x. A atribuição y = x faz com que y também seja uma referência para o endereço de memória onde o valor 3 está armazendo.\n",
        "\n",
        "A operação x+1 recupera o valor 3 referenciado por x, adicionado 1 e o resultado 4 é colocado em um novo endereço de memória. Com a atribuição x = x+1, a variável x passa a referenciar este novo endereço de memória. A variável y, por sua vez, continua sendo uma referência para o endereço de memória onde o valor 3 está armazenado."
      ],
      "metadata": {
        "id": "UeR8k1qFmshY"
      }
    },
    {
      "cell_type": "code",
      "execution_count": null,
      "metadata": {
        "colab": {
          "base_uri": "https://localhost:8080/"
        },
        "id": "vAw_Nry2jPDn",
        "outputId": "4ab8c14d-134e-4033-ac6a-09ffeda0481b"
      },
      "outputs": [
        {
          "name": "stdout",
          "output_type": "stream",
          "text": [
            "136086705422672\n",
            "136086705422640\n"
          ]
        }
      ],
      "source": [
        "print(id(x))\n",
        "print(id(y))"
      ]
    },
    {
      "cell_type": "markdown",
      "metadata": {
        "id": "dr-Sea_zjPDn"
      },
      "source": [
        "**1.2** No código abaixo, explique por que o conteúdo da variável `y` também é afetado quando um novo elemento é adicionado à lista referenciada por `x`."
      ]
    },
    {
      "cell_type": "code",
      "execution_count": null,
      "metadata": {
        "colab": {
          "base_uri": "https://localhost:8080/"
        },
        "id": "95ABvrG2jPDn",
        "outputId": "e112bc95-2264-495b-8b5b-e7557d980305"
      },
      "outputs": [
        {
          "name": "stdout",
          "output_type": "stream",
          "text": [
            "[3] [3]\n",
            "[3, 1] [3, 1]\n"
          ]
        }
      ],
      "source": [
        "x = [3]\n",
        "y = x\n",
        "print(x,y)\n",
        "x.append(1)\n",
        "print(x,y)"
      ]
    },
    {
      "cell_type": "markdown",
      "metadata": {
        "id": "YihrK6m8jPDo"
      },
      "source": [
        "**Resposta:** Porque a variável y aponta para o mesmo endereço de memória que a variável x."
      ]
    },
    {
      "cell_type": "markdown",
      "metadata": {
        "id": "zlilxaTMFD_Y"
      },
      "source": [
        "**Resposta:** A atribuição `x = [3]` cria uma lista em memória e atribui o endereço desta memória a variável `x`. O endereço onde o elemento 3 da lista está armazenado é diferente do endereço de memória da lista. A atribuição `y = x` faz com que `y` também seja uma referência para o endereço de memória onde a lista está armazenada.\n",
        "\n",
        "A operação `x.append(1)` adiciona um novo elemento à lista, porém o endereço de memória da lista não muda. Como `y` referencia este endereço, `y` tem acesso ao conteúdo alterado pela operação `x.append(1)`."
      ]
    },
    {
      "cell_type": "markdown",
      "metadata": {
        "id": "KxqASTBujPDo"
      },
      "source": [
        "**1.3** No código abaixo, explique por que o conteúdo da variável `y` NÃO afetado após a operação `x = x+[1]`."
      ]
    },
    {
      "cell_type": "code",
      "execution_count": null,
      "metadata": {
        "colab": {
          "base_uri": "https://localhost:8080/"
        },
        "id": "etpIR6QzjPDo",
        "outputId": "46216e17-1374-469e-8f74-b9608a1de266"
      },
      "outputs": [
        {
          "name": "stdout",
          "output_type": "stream",
          "text": [
            "[3] [3]\n",
            "[3, 1] [3]\n"
          ]
        }
      ],
      "source": [
        "x = [3]\n",
        "y = x\n",
        "print(x,y)\n",
        "x = x+[1]\n",
        "print(x,y)"
      ]
    },
    {
      "cell_type": "markdown",
      "metadata": {
        "id": "4APTG6kujPDo"
      },
      "source": [
        "**Resposta:** Por que a operação + altera o endereço de memoria em que a variável x está armazenada."
      ]
    },
    {
      "cell_type": "markdown",
      "metadata": {
        "id": "NICFkYXmFD_Z"
      },
      "source": [
        "**Resposta:** A operação `x+[1]` recupera a lista referênciada por `x` e a concatena com a lista `[1]`, porém, a concatenação resulta em uma nova lista, que é armazenada em um novo endereço de memória. A atribuição `x = x+[1]` faz com que `x` referencie este novo endereço de memória.\n",
        "\n",
        "A variável `y`, por sua vez, continua referenciando o endereço de memória onde a lista `[3]` foi armazenada, de modo que os endereços referenciados por `x` e `y` são diferentes."
      ]
    },
    {
      "cell_type": "markdown",
      "metadata": {
        "id": "DLXnfiUnjPDo"
      },
      "source": [
        "### Exercício 2)\n",
        "Considere a lista `pessoas` abaixo. Escreva um códico para remover todos os nomes da lista que começam com as letras 'A' e 'M', inserindo estes nomes em uma nova lista chamada `pessoasAM`."
      ]
    },
    {
      "cell_type": "code",
      "execution_count": 8,
      "metadata": {
        "colab": {
          "base_uri": "https://localhost:8080/"
        },
        "id": "yA69aRl-jPDp",
        "outputId": "3adb7958-65e7-4a70-d78d-1904bfed06e1"
      },
      "outputs": [
        {
          "output_type": "execute_result",
          "data": {
            "text/plain": [
              "['Sophia', 'Davi', 'Julia', 'Pedro', 'Isabella', 'Gabriel', 'Laura']"
            ]
          },
          "metadata": {},
          "execution_count": 8
        }
      ],
      "source": [
        "\n",
        "pessoas = ['Miguel','Sophia','Davi','Alice','Arthur','Julia','Pedro','Isabella','Gabriel',\n",
        "           'Manuela','Laura']\n",
        "\n",
        "# Escreva o código aqui\n",
        "pessoasAM=[pessoa for pessoa in pessoas if (pessoa[0] in \"AM\")]\n",
        "pessoasAM\n",
        "\n",
        "\n",
        "remover = [pessoas.remove(pAM) for pAM in pessoasAM if pAM in pessoas]\n",
        "\n",
        "pessoas\n"
      ]
    },
    {
      "cell_type": "code",
      "metadata": {
        "id": "BCDwd48jFD_a",
        "outputId": "27faa6bd-6928-4690-a7a7-728d41678385"
      },
      "source": [
        "# Solucao 2: utilizando comprehension\n",
        "pessoas = ['Miguel','Sophia','Davi','Alice','Arthur','Julia','Pedro','Isabella','Gabriel','Manuela','Laura']\n",
        "\n",
        "pessoasAM = [n for n in pessoas if (n[0]=='A' or n[0]=='M')]\n",
        "pessoas = [n for n in pessoas if n not in pessoasAM]\n",
        "\n",
        "print(pessoas)\n",
        "print(pessoasAM)"
      ],
      "execution_count": null,
      "outputs": [
        {
          "output_type": "stream",
          "text": [
            "['Sophia', 'Davi', 'Julia', 'Pedro', 'Isabella', 'Gabriel', 'Laura']\n",
            "['Miguel', 'Alice', 'Arthur', 'Manuela']\n"
          ],
          "name": "stdout"
        }
      ]
    },
    {
      "cell_type": "markdown",
      "metadata": {
        "id": "XhBHJYm3jPDp"
      },
      "source": [
        "### Exercício 3)\n",
        "Crie um dicionário cujas chaves são as strings da lista `pessoas` definida no exercício anterior, sendo o comprimento da string correspondentes o valor associado a chave. Utilize comprehension para criar o dicionário. Por exemplo:\n",
        "```python\n",
        "{'Miguel': 6, 'Sophia': 6, 'Davi': 4,...}\n",
        "```"
      ]
    },
    {
      "cell_type": "code",
      "execution_count": null,
      "metadata": {
        "id": "up0uKilYjPDp",
        "colab": {
          "base_uri": "https://localhost:8080/"
        },
        "outputId": "fedd6975-4641-4f98-f4c5-347d743d0de5"
      },
      "outputs": [
        {
          "output_type": "stream",
          "name": "stdout",
          "text": [
            "{'Miguel': 6, 'Sophia': 6, 'Davi': 4, 'Alice': 5, 'Arthur': 6, 'Julia': 5, 'Pedro': 5, 'Isabella': 8, 'Gabriel': 7, 'Manuela': 7, 'Laura': 5}\n"
          ]
        }
      ],
      "source": [
        "pessoas = ['Miguel','Sophia','Davi','Alice','Arthur','Julia','Pedro','Isabella','Gabriel','Manuela','Laura']\n",
        "# Escreva o código aqui\n",
        "dict_pessoas = {p : len(p) for p in pessoas}\n",
        "print(dict_pessoas)"
      ]
    },
    {
      "cell_type": "markdown",
      "metadata": {
        "id": "nSeVwbvojPDp"
      },
      "source": [
        "### Exercício 4)\n",
        "Considere a lista `pessoas` abaixo. Modifique os elementos da lista fazendo que com que o último caracter de cada elemento fique maiúsculo caso tal caractere seja uma vogal. Utilize o método <font color='blue'>'.upper'</font> de objetos string para converter um caracter em maiúsculo. Por exemplo, o método <font color='blue'>'.upper'</font> no código abaixo:\n",
        "```python\n",
        "x = 'abc'.upper()\n",
        "print(x)\n",
        "```\n",
        "resulta em `ABC`. Você não deve utilizar um laço <font color='blue'>'for'</font>, apenas comprehension."
      ]
    },
    {
      "cell_type": "code",
      "execution_count": 9,
      "metadata": {
        "id": "aZkQbcMDjPDp",
        "colab": {
          "base_uri": "https://localhost:8080/"
        },
        "outputId": "f042efdb-aefb-4fc9-ad36-707447f1b09b"
      },
      "outputs": [
        {
          "output_type": "stream",
          "name": "stdout",
          "text": [
            "['Miguel', 'SophiA', 'DavI', 'AlicE', 'Arthur', 'JuliA', 'PedrO', 'IsabellA', 'Gabriel', 'ManuelA', 'LaurA']\n"
          ]
        }
      ],
      "source": [
        "pessoas = ['Miguel','Sophia','Davi','Alice','Arthur','Julia','Pedro','Isabella','Gabriel','Manuela','Laura']\n",
        "# Escreva o código aqui\n",
        "\n",
        "pessoas_upper = [n[:-1]+n[-1].upper() if n[-1] in 'aeiou' else n for n in pessoas]\n",
        "print(pessoas_upper)"
      ]
    },
    {
      "cell_type": "markdown",
      "metadata": {
        "id": "uStoN3C3jPDp"
      },
      "source": [
        "### Exercício 5)\n",
        "Escreva uma função chamda `div3e5` que recebe como parâmetro um número. Se o número for divisível por 3 a função retorna `div3`, se for divisível por 5 retorna `div5`, se for divisível por 3 e 5 retorna `div3div5`, senão retorna o próprio número. Aplique a função na lista `teste` abaixo e utilize comprehension para gerar uma nova lista com os resultados correspondentes. Por exemplo, dada a lista:\n",
        "```python\n",
        "[30, 21, 21, 49, 39, 49, 19,  5, 17,  4]\n",
        "```\n",
        "o código deve produzir\n",
        "```python\n",
        "['div3div5', 'div3', 'div3', 49, 'div3', 49, 19, 'div5', 17, 4]\n",
        "```"
      ]
    },
    {
      "cell_type": "code",
      "execution_count": 12,
      "metadata": {
        "id": "77I618NZjPDq",
        "colab": {
          "base_uri": "https://localhost:8080/"
        },
        "outputId": "4dc15c6f-1c79-40d2-9f4b-6fe5abe2ee52"
      },
      "outputs": [
        {
          "output_type": "stream",
          "name": "stdout",
          "text": [
            "[4, 7, 'div3', 'div5', 'div3div5', 34, 'div3div5', 'div3', 17, 'div3', 'div3', 26, 32, 'div5', 34, 'div3', 41, 'div3', 7, 'div3']\n",
            "[4, 7, 33, 20, 30, 34, 15, 3, 17, 39, 21, 26, 32, 10, 34, 42, 41, 18, 7, 36]\n"
          ]
        }
      ],
      "source": [
        "teste = [4, 7, 33, 20, 30, 34, 15, 3, 17, 39, 21, 26, 32, 10, 34, 42, 41, 18, 7, 36]\n",
        "\n",
        "def div3e5(x):\n",
        "  s = ''\n",
        "  if x%3 == 0:\n",
        "      s = 'div3'\n",
        "  if x%5 == 0:\n",
        "      s = s+'div5'\n",
        "  if s == '':\n",
        "      s = x\n",
        "  return(s)\n",
        "\n",
        "l = [div3e5(i) for i in teste]\n",
        "print(l)\n",
        "print(teste)\n"
      ]
    },
    {
      "cell_type": "markdown",
      "metadata": {
        "id": "ynf1pLUdjPDq"
      },
      "source": [
        "### Exercício 6)\n",
        "Considere a lista `numeros` abaixo que contém números inteiros entre 0 e 5. Escreva uma função chamda `ocorrencias` que recebe a lista `numeros` como parâmetro e retorna um dicionário onde as chaves são números de 0 a 5 e os valores associados correspondem ao número de vezes que a chave aparece na lista. Por exemplo, o código abaixo:\n",
        "```python\n",
        "numeros = [2, 1, 1, 2, 0, 2, 0, 1, 4, 1]\n",
        "print(ocorrencias(numeros))\n",
        "```\n",
        "deve gerar o seguinte resultado:\n",
        "```python\n",
        "{0: 2, 1: 4, 2: 3, 3: 0, 4: 1, 5: 0}\n",
        "```\n",
        "Tente não utilizar um laço <font color='blue'>'for'</font>, mas sim comprehension para dicionários."
      ]
    },
    {
      "cell_type": "code",
      "execution_count": 14,
      "metadata": {
        "id": "4bIm9xi0jPDq",
        "colab": {
          "base_uri": "https://localhost:8080/"
        },
        "outputId": "532a1a14-cc00-407c-efc9-a13e9ed00387"
      },
      "outputs": [
        {
          "output_type": "stream",
          "name": "stdout",
          "text": [
            "{0: 7, 1: 3, 2: 2, 3: 2, 4: 4, 5: 2}\n"
          ]
        }
      ],
      "source": [
        "numeros = [1, 5, 1, 4, 3, 2, 4, 0, 0, 0, 3, 0, 2, 1, 0, 0, 4, 0, 5, 4]\n",
        "\n",
        "def ocorrencias(l):\n",
        "    d = {i:l.count(i) for i in range(6)}\n",
        "    return(d)\n",
        "\n",
        "print(ocorrencias(numeros))"
      ]
    },
    {
      "cell_type": "markdown",
      "metadata": {
        "id": "3YhUAQCYjPDq"
      },
      "source": [
        "### Exercício 7)\n",
        "Escreva uma função `retorna_maiuscula` que recebe um caractere como parâmetro e retorna o caracter em maiúsculo caso ele seja uma vogal. Utilize a função `retorna_maiuscula` para converter todas as vogais de uma string em maiúsculas.\n",
        "Por exemplo:\n",
        "```python\n",
        "'string para testar a funcao'\n",
        "```\n",
        "deve ser transformada em:\n",
        "```python\n",
        "'strIng pArA tEstAr A fUncAO'\n",
        "```\n",
        "Não utilize um laço <font color='blue'>'for'</font> em seu código.\n",
        "\n",
        "__Dica:__ Armazene os resultados da função `retorna_maiuscula` em uma lista e utilize a função <font color='blue'>.join</font> para converter a lista em uma string."
      ]
    },
    {
      "cell_type": "code",
      "execution_count": 15,
      "metadata": {
        "colab": {
          "base_uri": "https://localhost:8080/"
        },
        "id": "kbQ78-FBjPDq",
        "outputId": "96fe9bc6-bbfc-485b-d3e2-24e40184366e"
      },
      "outputs": [
        {
          "output_type": "stream",
          "name": "stdout",
          "text": [
            "strIng pArA tEstAr A fUncAO\n"
          ]
        }
      ],
      "source": [
        "def retorna_maiuscula(s):\n",
        "  return s.upper() if s in 'aeiou' else s\n",
        "                             # Escreva o código aqui\n",
        "\n",
        "teste = 'string para testar a funcao'\n",
        "\n",
        "teste = [retorna_maiuscula(c) for c in list(teste)]\n",
        "print(\"\".join(teste))"
      ]
    },
    {
      "cell_type": "code",
      "metadata": {
        "id": "aHJs5IG-FD_d",
        "outputId": "d4e0d186-4791-4ec7-b6a2-332e827d8e48",
        "colab": {
          "base_uri": "https://localhost:8080/"
        }
      },
      "source": [
        "def retorna_maiuscula(s):\n",
        "    if s in 'aeiou':\n",
        "        return(s.upper())\n",
        "    else:\n",
        "        return(s)\n",
        "\n",
        "st = 'string para testar a funcao'\n",
        "stm = ''.join([retorna_maiuscula(c) for c in st])\n",
        "print(stm)"
      ],
      "execution_count": 16,
      "outputs": [
        {
          "output_type": "stream",
          "name": "stdout",
          "text": [
            "strIng pArA tEstAr A fUncAO\n"
          ]
        }
      ]
    },
    {
      "cell_type": "markdown",
      "metadata": {
        "id": "-xZENba5jPDr"
      },
      "source": [
        "### Exercício 8)\n",
        "Repita o exercício 6) utilizando a função <font color='blue'>'lambda'</font> ao invés de uma função declarada pelo comando <font color='blue'>'def'</font>."
      ]
    },
    {
      "cell_type": "code",
      "execution_count": null,
      "metadata": {
        "colab": {
          "base_uri": "https://localhost:8080/"
        },
        "id": "mJzu7XZ9jPDr",
        "outputId": "82ae9b02-3cd8-49e3-93c4-c65b0790f8a3"
      },
      "outputs": [
        {
          "name": "stdout",
          "output_type": "stream",
          "text": [
            "strIng pArA tEstAr A fUncAO\n"
          ]
        }
      ],
      "source": [
        " # Escreva o código aqui\n",
        "teste = 'string para testar a funcao'\n",
        "\n",
        "f= lambda s: s.upper() if s in 'aeiou' else s\n",
        "\n",
        "teste = [f(c) for c in list(teste)]\n",
        "print(\"\".join(teste))"
      ]
    },
    {
      "cell_type": "code",
      "metadata": {
        "id": "1Zf-rWCwFD_e",
        "outputId": "c80185c3-5e0a-4676-f523-e6bd4fdd5828",
        "colab": {
          "base_uri": "https://localhost:8080/"
        }
      },
      "source": [
        "st = 'string para testar a funcao'\n",
        "\n",
        "f = lambda s:s.upper() if s in 'aeiou'else s\n",
        "stm =''.join([f(i) for i in st])\n",
        "print(stm)"
      ],
      "execution_count": 17,
      "outputs": [
        {
          "output_type": "stream",
          "name": "stdout",
          "text": [
            "strIng pArA tEstAr A fUncAO\n"
          ]
        }
      ]
    },
    {
      "cell_type": "markdown",
      "metadata": {
        "id": "j8usO24FjPDr"
      },
      "source": [
        "### Exercício 9)\n",
        "Escreva uma função `intersecao` que recebe duas listas como parâmetros e retorna uma outra lista contendo apenas os elementos que aparencem em ambas, sem repetição de elementos.\n",
        "Por exemplo, o código abaixo:\n",
        "```python\n",
        "s1 = ['a', 'f', 'o', 'i', 'n', 'f', 'g', 'a', 'o', 'i']\n",
        "s2 = ['l', 'k', 'j', 'f', 'a', 'j', 'i']\n",
        "print(intersecao(s1,s2))\n",
        "```\n",
        "deve resultar em\n",
        "```python\n",
        "['a', 'f', 'i']\n",
        "```\n",
        "__Dica:__ Utilize dicionário para encontrar os elementos únicos em cada lista. Você também pode converter a lista para uma váriavel tipo conjunto utilizando o comando <font color='blue'>set</font> disponível no python. Conjuntos não possuem elementos repetidos."
      ]
    },
    {
      "cell_type": "code",
      "execution_count": null,
      "metadata": {
        "colab": {
          "base_uri": "https://localhost:8080/"
        },
        "id": "jM_fTiSNjPDr",
        "outputId": "8b9bae29-28be-4239-def7-ef5f412d08af"
      },
      "outputs": [
        {
          "name": "stdout",
          "output_type": "stream",
          "text": [
            "['a', 'f', 'i', 'o']\n"
          ]
        }
      ],
      "source": [
        "def intersecao(l1,l2):\n",
        "  set1= set(l1)\n",
        "  set2= set(l2)\n",
        "  res=[n for n in set1 if n in set2]\n",
        "  res.sort()\n",
        "  return res\n",
        "\n",
        "\n",
        "\n",
        "                     # Escreva o código aqui\n",
        "s1 = ['a', 'f', 'o', 'i', 'n', 'o', 'g', 'a', 'o', 'i']\n",
        "s2 = ['l', 'k', 'j', 'f', 'a', 'j', 'i', 'e', 'o']\n",
        "\n",
        "print(intersecao(s1,s2))"
      ]
    },
    {
      "cell_type": "code",
      "metadata": {
        "id": "is6o9qzxFD_e",
        "outputId": "d4146af6-6053-49fd-8b49-aec1c9927973",
        "colab": {
          "base_uri": "https://localhost:8080/"
        }
      },
      "source": [
        "def intersecao(l1,l2):\n",
        "          # utiliza dicionario para encontrar os elementos unicos de cada lista\n",
        "    d_l1 = {c:c for c in l1}\n",
        "    d_l2 = {c:c for c in l2}\n",
        "          # converte os valores do dicionario em listas (poderia ter convertido as chaves)\n",
        "    unicos_l1 = list(d_l1.values())\n",
        "    unicos_l2 = list(d_l2.values())\n",
        "          # utiliza comprehension para gerar a lista com interseções\n",
        "    ambas = [c for c in unicos_l1 if c in unicos_l2]\n",
        "    return(ambas)\n",
        "\n",
        "s1 = ['a', 'f', 'o', 'i', 'n', 'f', 'g', 'a', 'o', 'i']\n",
        "s2 = ['l', 'k', 'j', 'f', 'a', 'j', 'i']\n",
        "\n",
        "print(intersecao(s1,s2))"
      ],
      "execution_count": 18,
      "outputs": [
        {
          "output_type": "stream",
          "name": "stdout",
          "text": [
            "['a', 'f', 'i']\n"
          ]
        }
      ]
    },
    {
      "cell_type": "markdown",
      "metadata": {
        "id": "qdRPcylZjPDr"
      },
      "source": [
        "### Exercício 10)\n",
        "As funções <font color='blue'>lambda</font>, também chamada de _funções anônimas_, são muito utilizadas quando se invoca um método (ou função) que aceita outra função como parâmetro. Por exemplo, a função <font color='blue'>sorted</font> aceita uma função com parâmetro, a qual é aplicada aos elementos da lista antes que a ordenação seja feita. Por exemplo:\n",
        "```python\n",
        "numeros = [0.11, -0.11, 0.4, 0.11, -0.57, -0.05, 0.85, -0.27, -0.07, -0.78]\n",
        "print(sorted(numeros,key=lambda x:x**2))\n",
        "```\n",
        "resulta nos elementos ordenados, mas como se eles estivessem elevados ao quadrado, ou seja, o resultado é:\n",
        "```python\n",
        "[-0.05, -0.07, 0.11, -0.11, 0.11, -0.27, 0.4, -0.57, -0.78, 0.85]\n",
        "```\n",
        "pois quando elevados ao quadrado e ordenados, os elementos da lista `numeros` resultam em:\n",
        "```python\n",
        "[0.0025, 0.0049, 0.0121, 0.0121, 0.0121, 0.0729, 0.1600, 0.3248, 0.6084, 0.7224]\n",
        "```\n",
        "\n",
        "Utilize a função <font color='blue'>lambda</font> combinada com o método <font color='blue'>sorted</font> para colocar todos os números múltiplos de 3 na parte esquerda de uma lista, ficando os demais números a direita. Por exemplo, a lista:\n",
        "```python\n",
        "[17, 46, 21, 16, 44, 1, 6, 5, 27, 24]\n",
        "```\n",
        "deve ficar organizada como:\n",
        "```python\n",
        "[21, 6, 27, 24, 17, 46, 16, 44, 1, 5]\n",
        "```\n",
        "onde `21, 6, 27, 24` ficam a esquerda, pois são múltipos de 3, equanto\n",
        "`17, 46, 16, 44, 1, 5` ficam a direita pois não são múltiplos de 3.\n",
        "\n",
        "Como teste para seu código, utilize a lista\n",
        "```python\n",
        "[2, 17, 12, 35, 39, 35, 4, 44, 12, 20, 7, 1, 21, 45, 43, 26, 6, 13, 48, 42]\n",
        "```\n",
        "que deve ficar organizada da seguinte forma:\n",
        "```python\n",
        "[12, 39, 12, 21, 45, 6, 48, 42, 2, 17, 35, 35, 4, 44, 20, 7, 1, 43, 26, 13]\n",
        "```"
      ]
    },
    {
      "cell_type": "code",
      "execution_count": 19,
      "metadata": {
        "colab": {
          "base_uri": "https://localhost:8080/"
        },
        "id": "DyGB9wuQjPDs",
        "outputId": "f63993e7-bedd-4537-e68b-72a64d08554e"
      },
      "outputs": [
        {
          "output_type": "stream",
          "name": "stdout",
          "text": [
            "[6, 12, 12, 21, 39, 42, 45, 48, 1, 2, 4, 7, 13, 17, 20, 26, 35, 35, 43, 44]\n"
          ]
        }
      ],
      "source": [
        "n = [2, 17, 12, 35, 39, 35, 4, 44, 12, 20, 7, 1, 21, 45, 43, 26, 6, 13, 48, 42]\n",
        " # Escreva o código aqui\n",
        "print(sorted(n, key= lambda x : (x % 3 !=0, x) ))"
      ]
    },
    {
      "cell_type": "code",
      "metadata": {
        "id": "rMrtdXi4FD_g",
        "outputId": "8b3be5b8-e017-4681-d146-63f28b9c89e2",
        "colab": {
          "base_uri": "https://localhost:8080/"
        }
      },
      "source": [
        "n = [2, 17, 12, 35, 39, 35, 4, 44, 12, 20, 7, 1, 21, 45, 43, 26, 6, 13, 48, 42]\n",
        "print(n)\n",
        "print(sorted(n,key=lambda x:0 if x%3==0 else 1))"
      ],
      "execution_count": 20,
      "outputs": [
        {
          "output_type": "stream",
          "name": "stdout",
          "text": [
            "[2, 17, 12, 35, 39, 35, 4, 44, 12, 20, 7, 1, 21, 45, 43, 26, 6, 13, 48, 42]\n",
            "[12, 39, 12, 21, 45, 6, 48, 42, 2, 17, 35, 35, 4, 44, 20, 7, 1, 43, 26, 13]\n"
          ]
        }
      ]
    }
  ],
  "metadata": {
    "colab": {
      "provenance": [],
      "include_colab_link": true
    },
    "kernelspec": {
      "display_name": "Python 3",
      "language": "python",
      "name": "python3"
    },
    "language_info": {
      "codemirror_mode": {
        "name": "ipython",
        "version": 3
      },
      "file_extension": ".py",
      "mimetype": "text/x-python",
      "name": "python",
      "nbconvert_exporter": "python",
      "pygments_lexer": "ipython3",
      "version": "3.8.5"
    }
  },
  "nbformat": 4,
  "nbformat_minor": 0
}