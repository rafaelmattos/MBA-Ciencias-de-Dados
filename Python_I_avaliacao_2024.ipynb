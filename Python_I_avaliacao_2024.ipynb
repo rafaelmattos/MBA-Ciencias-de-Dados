{
  "cells": [
    {
      "cell_type": "markdown",
      "metadata": {
        "id": "view-in-github",
        "colab_type": "text"
      },
      "source": [
        "<a href=\"https://colab.research.google.com/github/rafaelmattos/Programacao-para-Ciencias-de-Dados-MBA-ICMC-USP/blob/main/Python_I_avaliacao_2024.ipynb\" target=\"_parent\"><img src=\"https://colab.research.google.com/assets/colab-badge.svg\" alt=\"Open In Colab\"/></a>"
      ]
    },
    {
      "cell_type": "markdown",
      "metadata": {
        "id": "dXT81NW5a6xO"
      },
      "source": [
        "# <span style=\"color:blue\"> MBA em Ciência de Dados</span>\n",
        "# <span style=\"color:blue\">Programação para Ciência de Dados</span>\n",
        "\n",
        "## <span style=\"color:blue\">Python Parte I: Avaliação</span>\n",
        "**Material Produzido por Luis Gustavo Nonato**<br>\n",
        "**Cemeai - ICMC/USP São Carlos**"
      ]
    },
    {
      "cell_type": "markdown",
      "metadata": {
        "id": "qkyEuc0ma6xS"
      },
      "source": [
        "<font color='red'> As respostas devem ser fornecidas no Moodle. O notebook é apenas para a implementação dos códigos que fornecerão as respostas</font>"
      ]
    },
    {
      "cell_type": "markdown",
      "metadata": {
        "id": "ZiyRNtK4a6xT"
      },
      "source": [
        "### Exercício 1\n",
        "Considere a lista `lt` abaixo. Escreva um código para calcular quantos números contidos na lista são divisíveis por 2 e por 3, simultaneamente. A quantidade de números é:\n",
        "\n",
        "a) 6<br>\n",
        "b) 5<br>\n",
        "c) 4<br>\n",
        "d) 3"
      ]
    },
    {
      "cell_type": "code",
      "execution_count": null,
      "metadata": {
        "id": "a037dqdla6xT"
      },
      "outputs": [],
      "source": [
        "lt = [99, 128, 185, 19, 215, 493, 104, 78, 248, 299, 278, 141, 467, 212, 465, 130, 320, 35, 148, 351,\n",
        "       176, 366, 373, 256, 314, 354, 188, 259, 443, 81, 447, 313, 368, 197, 185, 328, 275, 269, 153,\n",
        "       495, 155, 312, 87, 141, 413, 129, 106, 44, 245, 479]"
      ]
    },
    {
      "cell_type": "code",
      "execution_count": null,
      "metadata": {
        "colab": {
          "base_uri": "https://localhost:8080/"
        },
        "id": "UDri6V3ga6xU",
        "outputId": "fb949500-8ed1-4a8d-c0ea-5596cac568e0"
      },
      "outputs": [
        {
          "data": {
            "text/plain": [
              "4"
            ]
          },
          "execution_count": 4,
          "metadata": {},
          "output_type": "execute_result"
        }
      ],
      "source": [
        "# Solucao\n",
        "cont = 0\n",
        "for v in lt:\n",
        "  if v%2 == 0 and v%3 == 0:\n",
        "    cont+=1\n",
        "cont\n"
      ]
    },
    {
      "cell_type": "markdown",
      "metadata": {
        "id": "oAQ_VN90a6xU"
      },
      "source": [
        "### Exercício 2\n",
        "Considere a lista `palavras` abaixo. Escreva um código para contar quantas vezes a letra 'a' e a letra 's' aparecem na lista.\n",
        "\n",
        "a) 'a': 51 vezes; 's': 56 vezes<br>\n",
        "b) 'a': 23 vezes; 's': 13 vezes<br>\n",
        "c) 'a': 26 vezes; 's': 20 vezes<br>\n",
        "d)'a': 44 vezes; 's': 26 vezes"
      ]
    },
    {
      "cell_type": "code",
      "execution_count": null,
      "metadata": {
        "colab": {
          "base_uri": "https://localhost:8080/"
        },
        "id": "t4nLo56Ja6xU",
        "outputId": "20b40f1d-a4cc-4b0e-f788-3374b7854f73"
      },
      "outputs": [
        {
          "data": {
            "text/plain": [
              "{'a': 26, 's': 20}"
            ]
          },
          "execution_count": 13,
          "metadata": {},
          "output_type": "execute_result"
        }
      ],
      "source": [
        "palavras = ['adeus','adoravel','amor','caminhos','chuva','coragem','cuidar','equilibrio',\n",
        "            'esperanca','felicidade','gentilezas','liberdade','melancolia','paz','respeito',\n",
        "            'riso','saudade','palimpsesto','perfeito','reciproco','recomeçar',\n",
        "            'resiliente','sentir','silencio','imprescindivel','sublime','tertulias','histerossalpingografico',\n",
        "            'pluridisciplinaridade','multidimensional']\n",
        "\n",
        "# escreva o código para encontrar a solução\n",
        "dc={'a':0, 's':0}\n",
        "for p in palavras:\n",
        "  for l in p:\n",
        "    if 'a' == l:\n",
        "      dc['a'] +=1\n",
        "    if 's' == l:\n",
        "      dc['s'] +=1\n",
        "\n",
        "dc\n"
      ]
    },
    {
      "cell_type": "markdown",
      "metadata": {
        "id": "Ilr4CMLva6xV"
      },
      "source": [
        "---\n",
        "\n",
        "Os exercícios de 3 a 5 abaixo fazem uso da lista de tuplas `dados_deputados` definida abaixo. Cada elemento da lista corresponde a uma tupla com nome de um deputado, estado e partido ao qual o deputado pertence e o valor de reembolso solicitado em um determinado mês do ano, ou seja:\n",
        "\n",
        "```python\n",
        "dados_deputados = [(NOME, ESTADO, PARTIDO, VALOR),\n",
        "                   (NOME, ESTADO, PARTIDO, VALOR),\n",
        "                    ...\n",
        "                   (NOME, ESTADO, PARTIDO, VALOR)]\n",
        "```"
      ]
    },
    {
      "cell_type": "code",
      "execution_count": 2,
      "metadata": {
        "id": "x3uOEXa9a6xV"
      },
      "outputs": [],
      "source": [
        "dados_deputados = [('JOSE STEDILE', 'RS', 'PSB', 106.03), ('BENITO GAMA', 'BA', 'PTB', 46.82),\n",
        "                   ('LUCIO VIEIRA LIMA', 'BA', 'PMDB', 332.0), ('FABIO REIS', 'SE', 'PMDB', 80.0),\n",
        "                   ('LUIZA ERUNDINA', 'SP', 'PSOL', 5.7), ('MAURO MARIANI', 'SC', 'PMDB', 526.68),\n",
        "                   ('MAJOR OLIMPIO', 'SP', 'SD', 38.1), ('BETINHO GOMES', 'PE', 'PSDB', 12000.0),\n",
        "                   ('PAULO ABI-ACKEL', 'MG', 'PSDB', 972.72), ('EZEQUIEL TEIXEIRA', 'RJ', 'PTN', 50.0),\n",
        "                   ('ADELMO CARNEIRO LEÃO', 'MG', 'PT', 709.72), ('HISSA ABRAHAO', 'AM', 'PDT', 1379.58),\n",
        "                   ('PAES LANDIM', 'PI', 'PTB', 1091.66), ('ANDRES SANCHEZ', 'SP', 'PT', 61.4),\n",
        "                   ('JOZI ARAUJO', 'AP', 'PTN', 141.0), ('ROBERTO FREIRE', 'SP', 'PPS', 161.88),\n",
        "                   ('ELIZIANE GAMA', 'MA', 'PPS', 546.73), ('CACA LEAO', 'BA', 'PP', 77.5),\n",
        "                   ('DIMAS FABIANO', 'MG', 'PP', 185.0), ('SILVIO TORRES', 'SP', 'PSDB', 233.0),\n",
        "                   ('RICARDO TEOBALDO ', 'PE', 'PTN', 50.0), ('ZECA DIRCEU', 'PR', 'PT', 499.29),\n",
        "                   ('ROCHA', 'AC', 'PSDB', 152.9), ('LAUDIVIO CARVALHO', 'MG', 'SD', 15.6),\n",
        "                   ('CRISTIANE BRASIL', 'RJ', 'PTB', 240.45), ('FABIO SOUSA', 'GO', 'PSDB', 80.0),\n",
        "                   ('CARLOS MANATO', 'ES', 'SD', 124.9), ('GONZAGA PATRIOTA', 'PE', 'PSB', 6769.0),\n",
        "                   ('LUIZ COUTO', 'PB', 'PT', 868.83), ('EZEQUIEL TEIXEIRA', 'RJ', 'PTN', 710.45),\n",
        "                   ('MAURO LOPES', 'MG', 'PMDB', 92.6), ('MARCIO ALVINO', 'SP', 'PR', 5.2)]"
      ]
    },
    {
      "cell_type": "markdown",
      "metadata": {
        "id": "1vJbN8Yqa6xV"
      },
      "source": [
        "### Exercício 3\n",
        "Escreva um código para encontrar o deputado com o maior valor de rembolso solicitado. O deputado e o valor do reembolso são:\n",
        "\n",
        "a) BETINHO GOMES: 12000.0<br>\n",
        "b) HISSA ABRAHAO: 13790.7<br>\n",
        "c) GONZAGA PATRIOTA: 6769.0<br>\n",
        "d) RICARDO TEOBALDO: 16791.5"
      ]
    },
    {
      "cell_type": "code",
      "execution_count": 3,
      "metadata": {
        "colab": {
          "base_uri": "https://localhost:8080/"
        },
        "id": "i0RXj0OZa6xV",
        "outputId": "46ff7174-b386-4234-943d-f7b4e32609f7"
      },
      "outputs": [
        {
          "output_type": "stream",
          "name": "stdout",
          "text": [
            "BETINHO GOMES:  12000.0\n"
          ]
        }
      ],
      "source": [
        "# escreva o código para encontrar a solução\n",
        "deputado = ''\n",
        "maior_reembolso = 0\n",
        "for d in dados_deputados:\n",
        "  if d[3] > maior_reembolso:\n",
        "    deputado = d[0]\n",
        "    maior_reembolso = d[3]\n",
        "print(deputado + \": \", maior_reembolso)"
      ]
    },
    {
      "cell_type": "markdown",
      "metadata": {
        "id": "sf560AETa6xV"
      },
      "source": [
        "### Exercício 4\n",
        "Escreva um código para encontrar qual estado possui o maior valor total de reembolsos, ou seja, somando os reembolsos de todos os deputados de cada estado, qual estado possui o maior valor de reembolso? Qual é o estado e o valor correspondente?\n",
        "\n",
        "__Dica:__ Crie um dicionário onde as chaves são os estados e os valores são o total de reembolsos do estado correspondente.\n",
        "\n",
        "a) SP, 9546.60<br>\n",
        "b) MA, 19456.87<br>\n",
        "c) MT, 11132.70<br>\n",
        "d) PE, 18819.0"
      ]
    },
    {
      "cell_type": "code",
      "execution_count": 7,
      "metadata": {
        "colab": {
          "base_uri": "https://localhost:8080/"
        },
        "id": "dRhx4Absa6xW",
        "outputId": "ea3525ea-4c96-48c1-b622-96f9abf76642"
      },
      "outputs": [
        {
          "output_type": "stream",
          "name": "stdout",
          "text": [
            "{'RS': 106.03, 'BA': 456.32, 'SE': 80.0, 'SP': 505.28, 'SC': 526.68, 'PE': 18819.0, 'MG': 1975.6399999999999, 'RJ': 1000.9000000000001, 'AM': 1379.58, 'PI': 1091.66, 'AP': 141.0, 'MA': 546.73, 'PR': 499.29, 'AC': 152.9, 'GO': 80.0, 'ES': 124.9, 'PB': 868.83}\n",
            "PE:  18819.0\n"
          ]
        }
      ],
      "source": [
        "# escreva o código para encontrar a solução\n",
        "uf={}\n",
        "maximo= 0.0\n",
        "uf_maior =''\n",
        "for d in dados_deputados:\n",
        "  uf[d[1]]= d[3] if d[1] not in uf else uf[d[1]] + d[3]\n",
        "\n",
        "print(uf)\n",
        "valores = list(uf.values())\n",
        "maximo = max(valores)\n",
        "\n",
        "index = valores.index(maximo)\n",
        "estados = list(uf.keys())\n",
        "print(estados[index] +': ', maximo)\n",
        "\n",
        "\n"
      ]
    },
    {
      "cell_type": "markdown",
      "metadata": {
        "id": "5BNX9Tb3a6xW"
      },
      "source": [
        "### Exercício 5\n",
        "Escreva um código para encontrar qual partido requisitou mais reembolsos (não o valor, mas sim o número de vezes solicitadas).\n",
        "Qual o partido e a quantidade de vezes solicitadas?\n",
        "\n",
        "a) PTB, 3 vezes<br>\n",
        "b) PT, 2 vezes<br>\n",
        "c) PSDB, 5 vezes<br>\n",
        "d) PMDB, 5 vezes"
      ]
    },
    {
      "cell_type": "code",
      "execution_count": 13,
      "metadata": {
        "id": "-bwKd3Ema6xW",
        "colab": {
          "base_uri": "https://localhost:8080/"
        },
        "outputId": "af8f92f5-bdb2-4db0-e100-e863d6f57894"
      },
      "outputs": [
        {
          "output_type": "stream",
          "name": "stdout",
          "text": [
            "PSDB,  5\n"
          ]
        },
        {
          "output_type": "execute_result",
          "data": {
            "text/plain": [
              "{'PSB': 2,\n",
              " 'PTB': 3,\n",
              " 'PMDB': 4,\n",
              " 'PSOL': 1,\n",
              " 'SD': 3,\n",
              " 'PSDB': 5,\n",
              " 'PTN': 4,\n",
              " 'PT': 4,\n",
              " 'PDT': 1,\n",
              " 'PPS': 2,\n",
              " 'PP': 2,\n",
              " 'PR': 1}"
            ]
          },
          "metadata": {},
          "execution_count": 13
        }
      ],
      "source": [
        "# escreva o código para encontrar a solução\n",
        "partidos = {}\n",
        "maior_qtd=0\n",
        "partido =''\n",
        "for d in dados_deputados:\n",
        "  partidos[d[2]]= 1 if d[2] not in partidos else partidos[d[2]] + 1\n",
        "  if partidos[d[2]] > maior_qtd:\n",
        "    maior_qtd = partidos[d[2]]\n",
        "    partido = d[2]\n",
        "\n",
        "print(partido + ', ', maior_qtd)\n",
        "\n",
        "partidos\n"
      ]
    }
  ],
  "metadata": {
    "colab": {
      "provenance": [],
      "include_colab_link": true
    },
    "kernelspec": {
      "display_name": "Python 3",
      "language": "python",
      "name": "python3"
    },
    "language_info": {
      "codemirror_mode": {
        "name": "ipython",
        "version": 3
      },
      "file_extension": ".py",
      "mimetype": "text/x-python",
      "name": "python",
      "nbconvert_exporter": "python",
      "pygments_lexer": "ipython3",
      "version": "3.8.8"
    },
    "toc": {
      "base_numbering": 1,
      "nav_menu": {},
      "number_sections": true,
      "sideBar": true,
      "skip_h1_title": false,
      "title_cell": "Table of Contents",
      "title_sidebar": "Contents",
      "toc_cell": false,
      "toc_position": {},
      "toc_section_display": true,
      "toc_window_display": false
    }
  },
  "nbformat": 4,
  "nbformat_minor": 0
}